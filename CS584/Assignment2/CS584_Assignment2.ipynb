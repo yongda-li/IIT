{
 "cells": [
  {
   "cell_type": "markdown",
   "metadata": {
    "id": "8iwaee_T-Urj"
   },
   "source": [
    "# Assignment 2 - Logistic Regression\n",
    "> **FULL MARKS = 10**\n",
    "\n",
    "In this assignment, you are going to implement your own logistic Regression function. Please notice **no** library versions of logistic regression are allowed. Follow the instructions, you will need to fill the blanks to make it functional. The process is similar to the previous assignment. "
   ]
  },
  {
   "cell_type": "markdown",
   "metadata": {
    "id": "FWwuN_B5D73w"
   },
   "source": [
    "***Initialization***"
   ]
  },
  {
   "cell_type": "markdown",
   "metadata": {
    "id": "-H_r0Tz6gu4c"
   },
   "source": [
    "*No more library allowed*"
   ]
  },
  {
   "cell_type": "code",
   "execution_count": 431,
   "metadata": {
    "id": "9M1DAu9XPY8E"
   },
   "outputs": [],
   "source": [
    "# load required library\n",
    "import matplotlib.pyplot as plt\n",
    "import numpy as np\n",
    "from sklearn.datasets import load_iris\n",
    "import scipy.optimize as opt"
   ]
  },
  {
   "cell_type": "markdown",
   "metadata": {
    "id": "4LdQ5yubLJld"
   },
   "source": [
    "Load data *(Do not modify)*\n",
    "_________\n",
    "\n",
    "We use 100 samples and 2 features. \n"
   ]
  },
  {
   "cell_type": "code",
   "execution_count": 432,
   "metadata": {
    "id": "ipOG3LQfjQMh",
    "pycharm": {
     "name": "#%%\n"
    }
   },
   "outputs": [],
   "source": [
    "x, y = load_iris(return_X_y=True)"
   ]
  },
  {
   "cell_type": "code",
   "execution_count": 433,
   "metadata": {
    "id": "7EpIS82ED4vr"
   },
   "outputs": [],
   "source": [
    "x=x[:100, :2] # class 0 and 1 balanced\n",
    "y=y[:100]"
   ]
  },
  {
   "cell_type": "markdown",
   "metadata": {
    "id": "33XtealSjQMk"
   },
   "source": [
    "**Visualize data**\n",
    "___________"
   ]
  },
  {
   "cell_type": "code",
   "execution_count": 434,
   "metadata": {
    "id": "V5KwBYiT-J3x"
   },
   "outputs": [],
   "source": [
    "# draw raw data\n",
    "def draw_data(x,y):\n",
    "    \n",
    "    #########################################################################\n",
    "    # Full Mark: 1                                                          #    \n",
    "    # TODO:                                                                 #\n",
    "    # 1. make a scatter plot of the raw data                                #\n",
    "    # 2. set title for the plot                                             #\n",
    "    # 3. set label for x,y axis                                             #\n",
    "    # Note, this scatter plot has two different type of points              #\n",
    "    #########################################################################\n",
    "    plt.title('iris data')\n",
    "    plt.xlabel('feature1')\n",
    "    plt.ylabel('feature2')\n",
    "    a = x[y==0]\n",
    "    b = x[y==1]\n",
    "    plt.scatter(b[:,0], b[:,1], s=50, color='b', marker='.', label='class1')\n",
    "    plt.scatter(a[:,0], a[:,1], s=50, color='r', marker='x', label='class0')\n",
    "    plt.legend(loc='upper right')\n",
    "    #########################################################################\n",
    "    #                       END OF YOUR CODE                                #\n",
    "    #########################################################################\n",
    "\n",
    "    # show plot\n",
    "    plt.show()"
   ]
  },
  {
   "cell_type": "code",
   "execution_count": 435,
   "metadata": {},
   "outputs": [
    {
     "data": {
      "image/png": "[encoded data removed]",
      "text/plain": [
       "<Figure size 432x288 with 1 Axes>"
      ]
     },
     "metadata": {
      "needs_background": "light"
     },
     "output_type": "display_data"
    }
   ],
   "source": [
    "draw_data(x,y)"
   ]
  },
  {
   "cell_type": "markdown",
   "metadata": {
    "id": "6jyZEY2f-ZlQ"
   },
   "source": [
    "Your plot should be similar to the example below"
   ]
  },
  {
   "cell_type": "markdown",
   "metadata": {
    "id": "sknkLiYZjaJo"
   },
   "source": [
    "**Sigmoid function**\n",
    "________________"
   ]
  },
  {
   "cell_type": "code",
   "execution_count": 436,
   "metadata": {
    "id": "wszqzBT9xRgj"
   },
   "outputs": [],
   "source": [
    "# please do not modify this cell\n",
    "x = np.concatenate((np.array([np.ones(len(y))]).T, x), axis=1)\n",
    "theta = np.ones(x.shape[1])"
   ]
  },
  {
   "cell_type": "markdown",
   "metadata": {
    "id": "qfM7gVinsixJ"
   },
   "source": [
    "**You can decide by yourselves whether to split the dataset to training and testing. The training and testing datasets spliting is not a part of the assignment 2 as you have done that in assignmnet 1. Without spliting, you can just report the accuracy on training dataset. **"
   ]
  },
  {
   "cell_type": "code",
   "execution_count": 437,
   "metadata": {
    "id": "AsCvUXe1jQMq",
    "pycharm": {
     "name": "#%%\n"
    }
   },
   "outputs": [],
   "source": [
    "# define sigmoid function\n",
    "# math: refer to https://en.wikipedia.org/wiki/Sigmoid_function or slides\n",
    "def sigmoid(theta, X):\n",
    "    #########################################################################\n",
    "    # Full Mark: 1                                                          # \n",
    "    # TODO:                                                                 #\n",
    "    # 1. implement the sigmoid function over input theta and X\n",
    "    #########################################################################\n",
    "    \n",
    "    s = 1/(1 + np.exp(-np.dot(x,theta)))\n",
    "    #########################################################################\n",
    "    #                       END OF YOUR CODE                                #\n",
    "    #########################################################################\n",
    "    return s"
   ]
  },
  {
   "cell_type": "markdown",
   "metadata": {
    "id": "4Layck69jdEU"
   },
   "source": [
    "**Cost function**\n",
    "____________"
   ]
  },
  {
   "cell_type": "code",
   "execution_count": 438,
   "metadata": {
    "id": "oUtUiAqBjQMw",
    "pycharm": {
     "name": "#%%\n"
    }
   },
   "outputs": [],
   "source": [
    "# define cost function with sigmoid function\n",
    "def cost(theta, X, y):\n",
    "    #########################################################################\n",
    "    # Full Mark: 2                                                          # \n",
    "    # TODO:                                                                 #\n",
    "    # 1. implement the cross entropy loss function with sigmoid             #\n",
    "    #########################################################################\n",
    "    \n",
    "    h = sigmoid(theta, X)\n",
    "    co = -(np.dot(y.T, np.log(h))+np.dot((1-y).T, np.log(1-h)))\n",
    "    #########################################################################\n",
    "    #                       END OF YOUR CODE                                #\n",
    "    #########################################################################\n",
    "    return co"
   ]
  },
  {
   "cell_type": "markdown",
   "metadata": {
    "id": "fw9RGgRojgzY"
   },
   "source": [
    "**Calculate gradients**\n",
    "________________"
   ]
  },
  {
   "cell_type": "code",
   "execution_count": 439,
   "metadata": {
    "id": "shm404iFjQM5",
    "pycharm": {
     "name": "#%%\n"
    }
   },
   "outputs": [],
   "source": [
    "# the gradient of the cost is a vector of the same length as θ where the jth element (for j = 0, 1, . . . , n)\n",
    "def gradient(theta, X, y):\n",
    "    #########################################################################\n",
    "    # Full Mark: 2                                                          # \n",
    "    # TODO:                                                                 #\n",
    "    # 1. calculate the gradients using theta and sigmoid                    #\n",
    "    # Hint: X may need to be transposed to do matrix operation              #\n",
    "    #########################################################################\n",
    "    grad = np.zeros(X.shape[1])\n",
    "    for i in range(3):\n",
    "        temp_grad = -np.sum(np.multiply((y-sigmoid(theta,X)), np.mat(X)[:,i]))\n",
    "        grad[i] = temp_grad\n",
    "    #########################################################################\n",
    "    #                       END OF YOUR CODE                                #\n",
    "    #########################################################################\n",
    "    return grad"
   ]
  },
  {
   "cell_type": "markdown",
   "metadata": {
    "id": "TzEZlyZjtYDJ"
   },
   "source": [
    "**Predicting**\n",
    "________________"
   ]
  },
  {
   "cell_type": "code",
   "execution_count": 440,
   "metadata": {
    "id": "4-hauHHLLyh-"
   },
   "outputs": [],
   "source": [
    "# predict for new X\n",
    "def predict(theta, X):\n",
    "    #########################################################################\n",
    "    # Full Mark: 1                                                          # \n",
    "    # TODO:                                                                 #\n",
    "    # 1. predict the value using theta and sigmoid                          #\n",
    "    # 2. convert the predicted value to 0/1                                 #\n",
    "    # That's how it is called Logistic regression                           #\n",
    "    #########################################################################\n",
    "    predict_labels = np.zeros(X.shape[0])\n",
    "    h = sigmoid(theta, X)\n",
    "    for i in range(len(y)):\n",
    "        if h[i] >= 0.5:\n",
    "            predict_labels[i] = 1\n",
    "        else:\n",
    "            predict_labels[i] = 0\n",
    "    #########################################################################\n",
    "    #                       END OF YOUR CODE                                #\n",
    "    #########################################################################\n",
    "\n",
    "    return predict_labels"
   ]
  },
  {
   "cell_type": "markdown",
   "metadata": {
    "id": "nN9AOS3UtYsr"
   },
   "source": [
    "**Calculate accuracy**\n",
    "________________"
   ]
  },
  {
   "cell_type": "code",
   "execution_count": 441,
   "metadata": {
    "id": "ixEjN3TbwiPS"
   },
   "outputs": [],
   "source": [
    "# calculate accuracy\n",
    "def accurate(predictions, y):\n",
    "    #########################################################################\n",
    "    # Full Mark: 1                                                          # \n",
    "    # TODO:                                                                 #\n",
    "    # 1. calculate the accuracy value                                       #\n",
    "    # Note that you coud not import extra library                           #\n",
    "    #########################################################################\n",
    "    num = len(y)\n",
    "    accuracy_score = np.sum(np.abs(predictions-y)) / num\n",
    "    #########################################################################\n",
    "    #                       END OF YOUR CODE                                #\n",
    "    #########################################################################\n",
    "    return accuracy_score"
   ]
  },
  {
   "cell_type": "markdown",
   "metadata": {
    "id": "oXGba_YxMe3-"
   },
   "source": [
    "**Calling functions**\n",
    "________"
   ]
  },
  {
   "cell_type": "code",
   "execution_count": 442,
   "metadata": {
    "id": "DAg50iSeMbdz"
   },
   "outputs": [
    {
     "name": "stdout",
     "output_type": "stream",
     "text": [
      "final cost is 81.17194164773002\n",
      "accuracy is 0.93\n"
     ]
    }
   ],
   "source": [
    "# please do not modify this cell\n",
    "result = opt.fmin_tnc(func=cost, x0=theta, fprime=gradient, args=(x, y))\n",
    "final_theta = result[0]\n",
    "final_cost = cost(final_theta, x, y)\n",
    "predictions = predict(final_theta, x)\n",
    "accuracy = accurate(predictions, y)\n",
    "print(\"final cost is \" + str(final_cost))\n",
    "print(\"accuracy is \" + str(accuracy))"
   ]
  },
  {
   "cell_type": "markdown",
   "metadata": {
    "id": "5oqofQH5OKuj"
   },
   "source": [
    "**Decsion boudary** "
   ]
  },
  {
   "cell_type": "code",
   "execution_count": 443,
   "metadata": {
    "id": "EBJmxm-Y4USK"
   },
   "outputs": [],
   "source": [
    "# draw decision boudary\n",
    "def draw_decision_boudary(final_theta,x,y):\n",
    "    #########################################################################\n",
    "    # Full Mark: 2                                                          # \n",
    "    # TODO:                                                                 #\n",
    "    # 1. plot the decision boudary on the raw data                          #\n",
    "    # 2. set title for the plot                                             #\n",
    "    # 3. set label for x,y axis                                             #\n",
    "    # Note, this scatter plot has two different type of points              #\n",
    "    #########################################################################\n",
    "    plt.title('Final Decision Boudary')\n",
    "    plt.xlabel('feature1')\n",
    "    plt.ylabel('feature2')\n",
    "    a = x[y==0]\n",
    "    b = x[y==1]\n",
    "    plt.scatter(a[:,1], a[:,2], s=50, color='r', marker='x', label='class0')\n",
    "    plt.scatter(b[:,1], b[:,2], s=50, color='b', marker='.', label='class1')\n",
    "    ax = plt.gca()\n",
    "    ax.autoscale(False)\n",
    "    x_vals = np.array(ax.get_xlim())\n",
    "    y_vals = -(x_vals * final_theta[1] + final_theta[0])/final_theta[2]\n",
    "    plt.plot(x_vals, y_vals)\n",
    "    \n",
    "    plt.legend(loc=('upper left'))\n",
    "    \n",
    "\n",
    "    #########################################################################\n",
    "    #                       END OF YOUR CODE                                #\n",
    "    #########################################################################\n",
    "\n",
    "    # show plot\n",
    "    plt.show()"
   ]
  },
  {
   "cell_type": "markdown",
   "metadata": {
    "id": "PkIodLiurfW-"
   },
   "source": [
    "Your plot should be similar to the example below"
   ]
  },
  {
   "cell_type": "code",
   "execution_count": 444,
   "metadata": {
    "colab": {
     "base_uri": "https://localhost:8080/",
     "height": 387
    },
    "id": "ButrhJxIuyqj",
    "outputId": "f0b8c54e-1438-400f-fe78-b16a301bde8d"
   },
   "outputs": [
    {
     "data": {
      "image/png": "[encoded data removed]",
      "text/plain": [
       "<Figure size 432x288 with 1 Axes>"
      ]
     },
     "metadata": {
      "needs_background": "light"
     },
     "output_type": "display_data"
    }
   ],
   "source": [
    "draw_decision_boudary(final_theta,x,y)"
   ]
  },
  {
   "cell_type": "code",
   "execution_count": null,
   "metadata": {},
   "outputs": [],
   "source": []
  }
 ],
 "metadata": {
  "colab": {
   "collapsed_sections": [],
   "name": "CS584_Assignment2.ipynb",
   "provenance": []
  },
  "kernelspec": {
   "display_name": "Python 3",
   "language": "python",
   "name": "python3"
  },
  "language_info": {
   "codemirror_mode": {
    "name": "ipython",
    "version": 3
   },
   "file_extension": ".py",
   "mimetype": "text/x-python",
   "name": "python",
   "nbconvert_exporter": "python",
   "pygments_lexer": "ipython3",
   "version": "3.7.3"
  },
  "pycharm": {
   "stem_cell": {
    "cell_type": "raw",
    "metadata": {
     "collapsed": false
    },
    "source": []
   }
  }
 },
 "nbformat": 4,
 "nbformat_minor": 1
}
